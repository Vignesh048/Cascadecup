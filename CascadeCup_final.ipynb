{
  "nbformat": 4,
  "nbformat_minor": 0,
  "metadata": {
    "colab": {
      "name": "CascadeCup_final.ipynb",
      "provenance": [],
      "collapsed_sections": []
    },
    "kernelspec": {
      "name": "python3",
      "display_name": "Python 3"
    },
    "language_info": {
      "name": "python"
    }
  },
  "cells": [
    {
      "cell_type": "code",
      "execution_count": 3,
      "metadata": {
        "id": "2h_ZCEigifLL"
      },
      "outputs": [],
      "source": [
        "import numpy as np \n",
        "import pandas as pd\n",
        "import matplotlib.pyplot as plt\n",
        "import seaborn as sns\n",
        "from dateutil.relativedelta import relativedelta\n",
        "import datetime \n",
        "from sklearn.impute import SimpleImputer"
      ]
    },
    {
      "cell_type": "code",
      "source": [
        "train = pd.read_csv('/train.csv')\n",
        "test = pd.read_csv('/test.csv')\n",
        "sample = pd.read_csv('/sample_submission.csv')"
      ],
      "metadata": {
        "id": "kwB-nXqiin9A"
      },
      "execution_count": 30,
      "outputs": []
    },
    {
      "cell_type": "code",
      "source": [
        "useless_cols = train.columns ^ test.columns\n",
        "useless_cols"
      ],
      "metadata": {
        "colab": {
          "base_uri": "https://localhost:8080/"
        },
        "id": "B5ffyyG4jHUi",
        "outputId": "cda865e6-83ed-4c62-fb46-3869ca41195c"
      },
      "execution_count": 31,
      "outputs": [
        {
          "output_type": "stream",
          "name": "stderr",
          "text": [
            "/usr/local/lib/python3.7/dist-packages/ipykernel_launcher.py:1: FutureWarning: Index.__xor__ operating as a set operation is deprecated, in the future this will be a logical operation matching Series.__xor__.  Use index.symmetric_difference(other) instead\n",
            "  \"\"\"Entry point for launching an IPython kernel.\n"
          ]
        },
        {
          "output_type": "execute_result",
          "data": {
            "text/plain": [
              "Index(['cancelled', 'cancelled_time', 'delivered_time', 'pickup_time'], dtype='object')"
            ]
          },
          "metadata": {},
          "execution_count": 31
        }
      ]
    },
    {
      "cell_type": "code",
      "source": [
        "train.corr()['cancelled']"
      ],
      "metadata": {
        "colab": {
          "base_uri": "https://localhost:8080/"
        },
        "id": "YkCk_XGrjZ0U",
        "outputId": "bd54d3cc-2787-4907-d963-f42a5d7b76cc"
      },
      "execution_count": 32,
      "outputs": [
        {
          "output_type": "execute_result",
          "data": {
            "text/plain": [
              "order_id                0.004266\n",
              "rider_id                0.058096\n",
              "first_mile_distance     0.009679\n",
              "last_mile_distance      0.018696\n",
              "alloted_orders         -0.034491\n",
              "delivered_orders       -0.030220\n",
              "cancelled               1.000000\n",
              "undelivered_orders      0.007417\n",
              "lifetime_order_count   -0.016192\n",
              "reassigned_order             NaN\n",
              "session_time           -0.019963\n",
              "Name: cancelled, dtype: float64"
            ]
          },
          "metadata": {},
          "execution_count": 32
        }
      ]
    },
    {
      "cell_type": "code",
      "source": [
        "target = train['cancelled'].copy()"
      ],
      "metadata": {
        "id": "YeGzF2I8k23o"
      },
      "execution_count": 33,
      "outputs": []
    },
    {
      "cell_type": "code",
      "source": [
        "target"
      ],
      "metadata": {
        "colab": {
          "base_uri": "https://localhost:8080/"
        },
        "id": "4zY74LVZk_Q9",
        "outputId": "aede0911-8681-4773-ab29-4eef93f937e0"
      },
      "execution_count": 34,
      "outputs": [
        {
          "output_type": "execute_result",
          "data": {
            "text/plain": [
              "0         0\n",
              "1         0\n",
              "2         0\n",
              "3         0\n",
              "4         0\n",
              "         ..\n",
              "449995    0\n",
              "449996    0\n",
              "449997    0\n",
              "449998    0\n",
              "449999    0\n",
              "Name: cancelled, Length: 450000, dtype: int64"
            ]
          },
          "metadata": {},
          "execution_count": 34
        }
      ]
    },
    {
      "cell_type": "code",
      "source": [
        "train.drop(['cancelled_time', 'delivered_time', 'pickup_time'],inplace = True,axis = 1)"
      ],
      "metadata": {
        "id": "aUROsye2lGvv"
      },
      "execution_count": 35,
      "outputs": []
    },
    {
      "cell_type": "code",
      "source": [
        "def preprocess(train_data):\n",
        "  train_data['order_time'] = pd.to_datetime(train_data['order_time'])\n",
        "  train_data['dayOfWeek'] = train_data['order_time'].dt.dayofweek\n",
        "  train_data['order_date'] = pd.to_datetime(train_data['order_date'])\n",
        "  train_data['allot_time'] = pd.to_datetime(train_data['allot_time'])\n",
        "  train_data['accept_time'] = pd.to_datetime(train_data['accept_time'])\n",
        "  train_data['order_allot'] = train_data['allot_time'] -  train_data['order_time'] \n",
        "  train_data['order_accept'] = train_data['accept_time'] -  train_data['order_time']\n",
        "  train_data['order_time_hrs'] = ((train_data['order_time'] - train_data['order_date'])/np.timedelta64(1,'h'))+6\n",
        "  train_data['order_allot']=train_data['order_allot']/np.timedelta64(1,'m')\n",
        "  train_data['order_accept']=train_data['order_accept']/np.timedelta64(1,'m')\n",
        "  train_data.drop(['order_time', 'order_date', 'allot_time','order_id','accept_time','reassignment_method','reassignment_reason','reassigned_order','rider_id'],axis = 1,inplace = True)\n",
        "  return train_data"
      ],
      "metadata": {
        "id": "1d9eHvCcmcOe"
      },
      "execution_count": 36,
      "outputs": []
    },
    {
      "cell_type": "code",
      "source": [
        "train_pro = preprocess(train)"
      ],
      "metadata": {
        "id": "abW2gKNDoBBm"
      },
      "execution_count": 37,
      "outputs": []
    },
    {
      "cell_type": "code",
      "source": [
        "train_pro"
      ],
      "metadata": {
        "colab": {
          "base_uri": "https://localhost:8080/",
          "height": 487
        },
        "id": "d7alW_wwoKrR",
        "outputId": "c0f47f12-1359-480f-d2d9-b7d5665434d6"
      },
      "execution_count": 14,
      "outputs": [
        {
          "output_type": "execute_result",
          "data": {
            "text/html": [
              "\n",
              "  <div id=\"df-3d10766a-3485-4848-892c-c494c0c8ad1c\">\n",
              "    <div class=\"colab-df-container\">\n",
              "      <div>\n",
              "<style scoped>\n",
              "    .dataframe tbody tr th:only-of-type {\n",
              "        vertical-align: middle;\n",
              "    }\n",
              "\n",
              "    .dataframe tbody tr th {\n",
              "        vertical-align: top;\n",
              "    }\n",
              "\n",
              "    .dataframe thead th {\n",
              "        text-align: right;\n",
              "    }\n",
              "</style>\n",
              "<table border=\"1\" class=\"dataframe\">\n",
              "  <thead>\n",
              "    <tr style=\"text-align: right;\">\n",
              "      <th></th>\n",
              "      <th>rider_id</th>\n",
              "      <th>first_mile_distance</th>\n",
              "      <th>last_mile_distance</th>\n",
              "      <th>alloted_orders</th>\n",
              "      <th>delivered_orders</th>\n",
              "      <th>cancelled</th>\n",
              "      <th>undelivered_orders</th>\n",
              "      <th>lifetime_order_count</th>\n",
              "      <th>session_time</th>\n",
              "      <th>dayOfWeek</th>\n",
              "      <th>order_allot</th>\n",
              "      <th>order_accept</th>\n",
              "      <th>order_time_hrs</th>\n",
              "    </tr>\n",
              "  </thead>\n",
              "  <tbody>\n",
              "    <tr>\n",
              "      <th>0</th>\n",
              "      <td>11696.0</td>\n",
              "      <td>1.5666</td>\n",
              "      <td>2.65</td>\n",
              "      <td>46.0</td>\n",
              "      <td>46.0</td>\n",
              "      <td>0.0</td>\n",
              "      <td>0.0</td>\n",
              "      <td>621.0</td>\n",
              "      <td>NaN</td>\n",
              "      <td>1</td>\n",
              "      <td>0.400000</td>\n",
              "      <td>0.550000</td>\n",
              "      <td>8.359722</td>\n",
              "    </tr>\n",
              "    <tr>\n",
              "      <th>1</th>\n",
              "      <td>18117.0</td>\n",
              "      <td>2.5207</td>\n",
              "      <td>2.76</td>\n",
              "      <td>8.0</td>\n",
              "      <td>8.0</td>\n",
              "      <td>0.0</td>\n",
              "      <td>0.0</td>\n",
              "      <td>105.0</td>\n",
              "      <td>3.266667</td>\n",
              "      <td>1</td>\n",
              "      <td>0.683333</td>\n",
              "      <td>1.483333</td>\n",
              "      <td>8.554444</td>\n",
              "    </tr>\n",
              "    <tr>\n",
              "      <th>2</th>\n",
              "      <td>18623.0</td>\n",
              "      <td>2.2074</td>\n",
              "      <td>4.80</td>\n",
              "      <td>1.0</td>\n",
              "      <td>1.0</td>\n",
              "      <td>0.0</td>\n",
              "      <td>0.0</td>\n",
              "      <td>66.0</td>\n",
              "      <td>9.816667</td>\n",
              "      <td>1</td>\n",
              "      <td>0.133333</td>\n",
              "      <td>0.400000</td>\n",
              "      <td>8.663611</td>\n",
              "    </tr>\n",
              "    <tr>\n",
              "      <th>3</th>\n",
              "      <td>15945.0</td>\n",
              "      <td>2.1894</td>\n",
              "      <td>6.38</td>\n",
              "      <td>1.0</td>\n",
              "      <td>1.0</td>\n",
              "      <td>0.0</td>\n",
              "      <td>0.0</td>\n",
              "      <td>127.0</td>\n",
              "      <td>17.533333</td>\n",
              "      <td>1</td>\n",
              "      <td>0.533333</td>\n",
              "      <td>1.216667</td>\n",
              "      <td>8.798056</td>\n",
              "    </tr>\n",
              "    <tr>\n",
              "      <th>4</th>\n",
              "      <td>17589.0</td>\n",
              "      <td>2.7870</td>\n",
              "      <td>4.01</td>\n",
              "      <td>34.0</td>\n",
              "      <td>34.0</td>\n",
              "      <td>0.0</td>\n",
              "      <td>0.0</td>\n",
              "      <td>84.0</td>\n",
              "      <td>1.350000</td>\n",
              "      <td>1</td>\n",
              "      <td>0.850000</td>\n",
              "      <td>1.450000</td>\n",
              "      <td>9.108333</td>\n",
              "    </tr>\n",
              "    <tr>\n",
              "      <th>...</th>\n",
              "      <td>...</td>\n",
              "      <td>...</td>\n",
              "      <td>...</td>\n",
              "      <td>...</td>\n",
              "      <td>...</td>\n",
              "      <td>...</td>\n",
              "      <td>...</td>\n",
              "      <td>...</td>\n",
              "      <td>...</td>\n",
              "      <td>...</td>\n",
              "      <td>...</td>\n",
              "      <td>...</td>\n",
              "      <td>...</td>\n",
              "    </tr>\n",
              "    <tr>\n",
              "      <th>321849</th>\n",
              "      <td>3566.0</td>\n",
              "      <td>0.9843</td>\n",
              "      <td>1.06</td>\n",
              "      <td>61.0</td>\n",
              "      <td>61.0</td>\n",
              "      <td>0.0</td>\n",
              "      <td>0.0</td>\n",
              "      <td>191.0</td>\n",
              "      <td>130.483333</td>\n",
              "      <td>2</td>\n",
              "      <td>0.033333</td>\n",
              "      <td>0.650000</td>\n",
              "      <td>14.731111</td>\n",
              "    </tr>\n",
              "    <tr>\n",
              "      <th>321850</th>\n",
              "      <td>561.0</td>\n",
              "      <td>1.4751</td>\n",
              "      <td>3.11</td>\n",
              "      <td>283.0</td>\n",
              "      <td>282.0</td>\n",
              "      <td>0.0</td>\n",
              "      <td>1.0</td>\n",
              "      <td>2437.0</td>\n",
              "      <td>207.866667</td>\n",
              "      <td>2</td>\n",
              "      <td>0.783333</td>\n",
              "      <td>1.033333</td>\n",
              "      <td>14.732500</td>\n",
              "    </tr>\n",
              "    <tr>\n",
              "      <th>321851</th>\n",
              "      <td>15868.0</td>\n",
              "      <td>2.2739</td>\n",
              "      <td>4.77</td>\n",
              "      <td>24.0</td>\n",
              "      <td>24.0</td>\n",
              "      <td>1.0</td>\n",
              "      <td>0.0</td>\n",
              "      <td>64.0</td>\n",
              "      <td>120.666667</td>\n",
              "      <td>2</td>\n",
              "      <td>16.300000</td>\n",
              "      <td>16.516667</td>\n",
              "      <td>14.733056</td>\n",
              "    </tr>\n",
              "    <tr>\n",
              "      <th>321852</th>\n",
              "      <td>850.0</td>\n",
              "      <td>1.5396</td>\n",
              "      <td>1.71</td>\n",
              "      <td>15.0</td>\n",
              "      <td>15.0</td>\n",
              "      <td>0.0</td>\n",
              "      <td>0.0</td>\n",
              "      <td>78.0</td>\n",
              "      <td>161.033333</td>\n",
              "      <td>2</td>\n",
              "      <td>2.116667</td>\n",
              "      <td>6.266667</td>\n",
              "      <td>14.733889</td>\n",
              "    </tr>\n",
              "    <tr>\n",
              "      <th>321853</th>\n",
              "      <td>NaN</td>\n",
              "      <td>NaN</td>\n",
              "      <td>NaN</td>\n",
              "      <td>NaN</td>\n",
              "      <td>NaN</td>\n",
              "      <td>NaN</td>\n",
              "      <td>NaN</td>\n",
              "      <td>NaN</td>\n",
              "      <td>NaN</td>\n",
              "      <td>2</td>\n",
              "      <td>NaN</td>\n",
              "      <td>NaN</td>\n",
              "      <td>14.734167</td>\n",
              "    </tr>\n",
              "  </tbody>\n",
              "</table>\n",
              "<p>321854 rows × 13 columns</p>\n",
              "</div>\n",
              "      <button class=\"colab-df-convert\" onclick=\"convertToInteractive('df-3d10766a-3485-4848-892c-c494c0c8ad1c')\"\n",
              "              title=\"Convert this dataframe to an interactive table.\"\n",
              "              style=\"display:none;\">\n",
              "        \n",
              "  <svg xmlns=\"http://www.w3.org/2000/svg\" height=\"24px\"viewBox=\"0 0 24 24\"\n",
              "       width=\"24px\">\n",
              "    <path d=\"M0 0h24v24H0V0z\" fill=\"none\"/>\n",
              "    <path d=\"M18.56 5.44l.94 2.06.94-2.06 2.06-.94-2.06-.94-.94-2.06-.94 2.06-2.06.94zm-11 1L8.5 8.5l.94-2.06 2.06-.94-2.06-.94L8.5 2.5l-.94 2.06-2.06.94zm10 10l.94 2.06.94-2.06 2.06-.94-2.06-.94-.94-2.06-.94 2.06-2.06.94z\"/><path d=\"M17.41 7.96l-1.37-1.37c-.4-.4-.92-.59-1.43-.59-.52 0-1.04.2-1.43.59L10.3 9.45l-7.72 7.72c-.78.78-.78 2.05 0 2.83L4 21.41c.39.39.9.59 1.41.59.51 0 1.02-.2 1.41-.59l7.78-7.78 2.81-2.81c.8-.78.8-2.07 0-2.86zM5.41 20L4 18.59l7.72-7.72 1.47 1.35L5.41 20z\"/>\n",
              "  </svg>\n",
              "      </button>\n",
              "      \n",
              "  <style>\n",
              "    .colab-df-container {\n",
              "      display:flex;\n",
              "      flex-wrap:wrap;\n",
              "      gap: 12px;\n",
              "    }\n",
              "\n",
              "    .colab-df-convert {\n",
              "      background-color: #E8F0FE;\n",
              "      border: none;\n",
              "      border-radius: 50%;\n",
              "      cursor: pointer;\n",
              "      display: none;\n",
              "      fill: #1967D2;\n",
              "      height: 32px;\n",
              "      padding: 0 0 0 0;\n",
              "      width: 32px;\n",
              "    }\n",
              "\n",
              "    .colab-df-convert:hover {\n",
              "      background-color: #E2EBFA;\n",
              "      box-shadow: 0px 1px 2px rgba(60, 64, 67, 0.3), 0px 1px 3px 1px rgba(60, 64, 67, 0.15);\n",
              "      fill: #174EA6;\n",
              "    }\n",
              "\n",
              "    [theme=dark] .colab-df-convert {\n",
              "      background-color: #3B4455;\n",
              "      fill: #D2E3FC;\n",
              "    }\n",
              "\n",
              "    [theme=dark] .colab-df-convert:hover {\n",
              "      background-color: #434B5C;\n",
              "      box-shadow: 0px 1px 3px 1px rgba(0, 0, 0, 0.15);\n",
              "      filter: drop-shadow(0px 1px 2px rgba(0, 0, 0, 0.3));\n",
              "      fill: #FFFFFF;\n",
              "    }\n",
              "  </style>\n",
              "\n",
              "      <script>\n",
              "        const buttonEl =\n",
              "          document.querySelector('#df-3d10766a-3485-4848-892c-c494c0c8ad1c button.colab-df-convert');\n",
              "        buttonEl.style.display =\n",
              "          google.colab.kernel.accessAllowed ? 'block' : 'none';\n",
              "\n",
              "        async function convertToInteractive(key) {\n",
              "          const element = document.querySelector('#df-3d10766a-3485-4848-892c-c494c0c8ad1c');\n",
              "          const dataTable =\n",
              "            await google.colab.kernel.invokeFunction('convertToInteractive',\n",
              "                                                     [key], {});\n",
              "          if (!dataTable) return;\n",
              "\n",
              "          const docLinkHtml = 'Like what you see? Visit the ' +\n",
              "            '<a target=\"_blank\" href=https://colab.research.google.com/notebooks/data_table.ipynb>data table notebook</a>'\n",
              "            + ' to learn more about interactive tables.';\n",
              "          element.innerHTML = '';\n",
              "          dataTable['output_type'] = 'display_data';\n",
              "          await google.colab.output.renderOutput(dataTable, element);\n",
              "          const docLink = document.createElement('div');\n",
              "          docLink.innerHTML = docLinkHtml;\n",
              "          element.appendChild(docLink);\n",
              "        }\n",
              "      </script>\n",
              "    </div>\n",
              "  </div>\n",
              "  "
            ],
            "text/plain": [
              "        rider_id  first_mile_distance  ...  order_accept  order_time_hrs\n",
              "0        11696.0               1.5666  ...      0.550000        8.359722\n",
              "1        18117.0               2.5207  ...      1.483333        8.554444\n",
              "2        18623.0               2.2074  ...      0.400000        8.663611\n",
              "3        15945.0               2.1894  ...      1.216667        8.798056\n",
              "4        17589.0               2.7870  ...      1.450000        9.108333\n",
              "...          ...                  ...  ...           ...             ...\n",
              "321849    3566.0               0.9843  ...      0.650000       14.731111\n",
              "321850     561.0               1.4751  ...      1.033333       14.732500\n",
              "321851   15868.0               2.2739  ...     16.516667       14.733056\n",
              "321852     850.0               1.5396  ...      6.266667       14.733889\n",
              "321853       NaN                  NaN  ...           NaN       14.734167\n",
              "\n",
              "[321854 rows x 13 columns]"
            ]
          },
          "metadata": {},
          "execution_count": 14
        }
      ]
    },
    {
      "cell_type": "code",
      "source": [
        "train_pro.isna().sum()"
      ],
      "metadata": {
        "colab": {
          "base_uri": "https://localhost:8080/"
        },
        "id": "r4lB2hJRooXx",
        "outputId": "c4002dfe-fd74-46b6-8566-2ab2cdf7704a"
      },
      "execution_count": 15,
      "outputs": [
        {
          "output_type": "execute_result",
          "data": {
            "text/plain": [
              "rider_id                    1\n",
              "first_mile_distance         1\n",
              "last_mile_distance          1\n",
              "alloted_orders          12220\n",
              "delivered_orders        12511\n",
              "cancelled                   1\n",
              "undelivered_orders      12511\n",
              "lifetime_order_count       37\n",
              "session_time             2638\n",
              "dayOfWeek                   0\n",
              "order_allot                 1\n",
              "order_accept              116\n",
              "order_time_hrs              0\n",
              "dtype: int64"
            ]
          },
          "metadata": {},
          "execution_count": 15
        }
      ]
    },
    {
      "cell_type": "code",
      "source": [
        "train_pro.drop('cancelled',axis = 1,inplace = True)"
      ],
      "metadata": {
        "id": "zI3lIEHUpHY1"
      },
      "execution_count": 39,
      "outputs": []
    },
    {
      "cell_type": "code",
      "source": [
        "cols = train_pro.columns\n",
        "imp = SimpleImputer(missing_values=np.nan, strategy='mean')\n",
        "train2 = imp.fit_transform(train_pro)\n",
        "X = pd.DataFrame(train2,columns = cols )\n",
        "X"
      ],
      "metadata": {
        "colab": {
          "base_uri": "https://localhost:8080/",
          "height": 487
        },
        "id": "n3tJBEvWo1jB",
        "outputId": "c016b1a8-f436-4331-b76e-106357990d08"
      },
      "execution_count": 40,
      "outputs": [
        {
          "output_type": "execute_result",
          "data": {
            "text/html": [
              "\n",
              "  <div id=\"df-e3cf5a85-62e8-49cd-b0af-5d1cfaf6f8d2\">\n",
              "    <div class=\"colab-df-container\">\n",
              "      <div>\n",
              "<style scoped>\n",
              "    .dataframe tbody tr th:only-of-type {\n",
              "        vertical-align: middle;\n",
              "    }\n",
              "\n",
              "    .dataframe tbody tr th {\n",
              "        vertical-align: top;\n",
              "    }\n",
              "\n",
              "    .dataframe thead th {\n",
              "        text-align: right;\n",
              "    }\n",
              "</style>\n",
              "<table border=\"1\" class=\"dataframe\">\n",
              "  <thead>\n",
              "    <tr style=\"text-align: right;\">\n",
              "      <th></th>\n",
              "      <th>first_mile_distance</th>\n",
              "      <th>last_mile_distance</th>\n",
              "      <th>alloted_orders</th>\n",
              "      <th>delivered_orders</th>\n",
              "      <th>undelivered_orders</th>\n",
              "      <th>lifetime_order_count</th>\n",
              "      <th>session_time</th>\n",
              "      <th>dayOfWeek</th>\n",
              "      <th>order_allot</th>\n",
              "      <th>order_accept</th>\n",
              "      <th>order_time_hrs</th>\n",
              "    </tr>\n",
              "  </thead>\n",
              "  <tbody>\n",
              "    <tr>\n",
              "      <th>0</th>\n",
              "      <td>1.5666</td>\n",
              "      <td>2.65</td>\n",
              "      <td>46.0</td>\n",
              "      <td>46.0</td>\n",
              "      <td>0.0</td>\n",
              "      <td>621.0</td>\n",
              "      <td>220.474779</td>\n",
              "      <td>1.0</td>\n",
              "      <td>0.400000</td>\n",
              "      <td>0.550000</td>\n",
              "      <td>8.359722</td>\n",
              "    </tr>\n",
              "    <tr>\n",
              "      <th>1</th>\n",
              "      <td>2.5207</td>\n",
              "      <td>2.76</td>\n",
              "      <td>8.0</td>\n",
              "      <td>8.0</td>\n",
              "      <td>0.0</td>\n",
              "      <td>105.0</td>\n",
              "      <td>3.266667</td>\n",
              "      <td>1.0</td>\n",
              "      <td>0.683333</td>\n",
              "      <td>1.483333</td>\n",
              "      <td>8.554444</td>\n",
              "    </tr>\n",
              "    <tr>\n",
              "      <th>2</th>\n",
              "      <td>2.2074</td>\n",
              "      <td>4.80</td>\n",
              "      <td>1.0</td>\n",
              "      <td>1.0</td>\n",
              "      <td>0.0</td>\n",
              "      <td>66.0</td>\n",
              "      <td>9.816667</td>\n",
              "      <td>1.0</td>\n",
              "      <td>0.133333</td>\n",
              "      <td>0.400000</td>\n",
              "      <td>8.663611</td>\n",
              "    </tr>\n",
              "    <tr>\n",
              "      <th>3</th>\n",
              "      <td>2.1894</td>\n",
              "      <td>6.38</td>\n",
              "      <td>1.0</td>\n",
              "      <td>1.0</td>\n",
              "      <td>0.0</td>\n",
              "      <td>127.0</td>\n",
              "      <td>17.533333</td>\n",
              "      <td>1.0</td>\n",
              "      <td>0.533333</td>\n",
              "      <td>1.216667</td>\n",
              "      <td>8.798056</td>\n",
              "    </tr>\n",
              "    <tr>\n",
              "      <th>4</th>\n",
              "      <td>2.7870</td>\n",
              "      <td>4.01</td>\n",
              "      <td>34.0</td>\n",
              "      <td>34.0</td>\n",
              "      <td>0.0</td>\n",
              "      <td>84.0</td>\n",
              "      <td>1.350000</td>\n",
              "      <td>1.0</td>\n",
              "      <td>0.850000</td>\n",
              "      <td>1.450000</td>\n",
              "      <td>9.108333</td>\n",
              "    </tr>\n",
              "    <tr>\n",
              "      <th>...</th>\n",
              "      <td>...</td>\n",
              "      <td>...</td>\n",
              "      <td>...</td>\n",
              "      <td>...</td>\n",
              "      <td>...</td>\n",
              "      <td>...</td>\n",
              "      <td>...</td>\n",
              "      <td>...</td>\n",
              "      <td>...</td>\n",
              "      <td>...</td>\n",
              "      <td>...</td>\n",
              "    </tr>\n",
              "    <tr>\n",
              "      <th>449995</th>\n",
              "      <td>0.5789</td>\n",
              "      <td>0.19</td>\n",
              "      <td>4.0</td>\n",
              "      <td>4.0</td>\n",
              "      <td>0.0</td>\n",
              "      <td>127.0</td>\n",
              "      <td>369.516667</td>\n",
              "      <td>5.0</td>\n",
              "      <td>0.466667</td>\n",
              "      <td>0.966667</td>\n",
              "      <td>16.054444</td>\n",
              "    </tr>\n",
              "    <tr>\n",
              "      <th>449996</th>\n",
              "      <td>1.9863</td>\n",
              "      <td>1.19</td>\n",
              "      <td>81.0</td>\n",
              "      <td>81.0</td>\n",
              "      <td>0.0</td>\n",
              "      <td>105.0</td>\n",
              "      <td>239.133333</td>\n",
              "      <td>5.0</td>\n",
              "      <td>0.016667</td>\n",
              "      <td>1.283333</td>\n",
              "      <td>16.054722</td>\n",
              "    </tr>\n",
              "    <tr>\n",
              "      <th>449997</th>\n",
              "      <td>1.5944</td>\n",
              "      <td>1.61</td>\n",
              "      <td>28.0</td>\n",
              "      <td>28.0</td>\n",
              "      <td>0.0</td>\n",
              "      <td>1488.0</td>\n",
              "      <td>204.150000</td>\n",
              "      <td>5.0</td>\n",
              "      <td>0.800000</td>\n",
              "      <td>1.350000</td>\n",
              "      <td>16.055000</td>\n",
              "    </tr>\n",
              "    <tr>\n",
              "      <th>449998</th>\n",
              "      <td>2.8939</td>\n",
              "      <td>4.68</td>\n",
              "      <td>72.0</td>\n",
              "      <td>72.0</td>\n",
              "      <td>0.0</td>\n",
              "      <td>105.0</td>\n",
              "      <td>65.583333</td>\n",
              "      <td>5.0</td>\n",
              "      <td>0.000000</td>\n",
              "      <td>2.366667</td>\n",
              "      <td>16.055278</td>\n",
              "    </tr>\n",
              "    <tr>\n",
              "      <th>449999</th>\n",
              "      <td>1.8925</td>\n",
              "      <td>0.09</td>\n",
              "      <td>30.0</td>\n",
              "      <td>30.0</td>\n",
              "      <td>0.0</td>\n",
              "      <td>108.0</td>\n",
              "      <td>212.000000</td>\n",
              "      <td>5.0</td>\n",
              "      <td>0.350000</td>\n",
              "      <td>1.833333</td>\n",
              "      <td>16.056667</td>\n",
              "    </tr>\n",
              "  </tbody>\n",
              "</table>\n",
              "<p>450000 rows × 11 columns</p>\n",
              "</div>\n",
              "      <button class=\"colab-df-convert\" onclick=\"convertToInteractive('df-e3cf5a85-62e8-49cd-b0af-5d1cfaf6f8d2')\"\n",
              "              title=\"Convert this dataframe to an interactive table.\"\n",
              "              style=\"display:none;\">\n",
              "        \n",
              "  <svg xmlns=\"http://www.w3.org/2000/svg\" height=\"24px\"viewBox=\"0 0 24 24\"\n",
              "       width=\"24px\">\n",
              "    <path d=\"M0 0h24v24H0V0z\" fill=\"none\"/>\n",
              "    <path d=\"M18.56 5.44l.94 2.06.94-2.06 2.06-.94-2.06-.94-.94-2.06-.94 2.06-2.06.94zm-11 1L8.5 8.5l.94-2.06 2.06-.94-2.06-.94L8.5 2.5l-.94 2.06-2.06.94zm10 10l.94 2.06.94-2.06 2.06-.94-2.06-.94-.94-2.06-.94 2.06-2.06.94z\"/><path d=\"M17.41 7.96l-1.37-1.37c-.4-.4-.92-.59-1.43-.59-.52 0-1.04.2-1.43.59L10.3 9.45l-7.72 7.72c-.78.78-.78 2.05 0 2.83L4 21.41c.39.39.9.59 1.41.59.51 0 1.02-.2 1.41-.59l7.78-7.78 2.81-2.81c.8-.78.8-2.07 0-2.86zM5.41 20L4 18.59l7.72-7.72 1.47 1.35L5.41 20z\"/>\n",
              "  </svg>\n",
              "      </button>\n",
              "      \n",
              "  <style>\n",
              "    .colab-df-container {\n",
              "      display:flex;\n",
              "      flex-wrap:wrap;\n",
              "      gap: 12px;\n",
              "    }\n",
              "\n",
              "    .colab-df-convert {\n",
              "      background-color: #E8F0FE;\n",
              "      border: none;\n",
              "      border-radius: 50%;\n",
              "      cursor: pointer;\n",
              "      display: none;\n",
              "      fill: #1967D2;\n",
              "      height: 32px;\n",
              "      padding: 0 0 0 0;\n",
              "      width: 32px;\n",
              "    }\n",
              "\n",
              "    .colab-df-convert:hover {\n",
              "      background-color: #E2EBFA;\n",
              "      box-shadow: 0px 1px 2px rgba(60, 64, 67, 0.3), 0px 1px 3px 1px rgba(60, 64, 67, 0.15);\n",
              "      fill: #174EA6;\n",
              "    }\n",
              "\n",
              "    [theme=dark] .colab-df-convert {\n",
              "      background-color: #3B4455;\n",
              "      fill: #D2E3FC;\n",
              "    }\n",
              "\n",
              "    [theme=dark] .colab-df-convert:hover {\n",
              "      background-color: #434B5C;\n",
              "      box-shadow: 0px 1px 3px 1px rgba(0, 0, 0, 0.15);\n",
              "      filter: drop-shadow(0px 1px 2px rgba(0, 0, 0, 0.3));\n",
              "      fill: #FFFFFF;\n",
              "    }\n",
              "  </style>\n",
              "\n",
              "      <script>\n",
              "        const buttonEl =\n",
              "          document.querySelector('#df-e3cf5a85-62e8-49cd-b0af-5d1cfaf6f8d2 button.colab-df-convert');\n",
              "        buttonEl.style.display =\n",
              "          google.colab.kernel.accessAllowed ? 'block' : 'none';\n",
              "\n",
              "        async function convertToInteractive(key) {\n",
              "          const element = document.querySelector('#df-e3cf5a85-62e8-49cd-b0af-5d1cfaf6f8d2');\n",
              "          const dataTable =\n",
              "            await google.colab.kernel.invokeFunction('convertToInteractive',\n",
              "                                                     [key], {});\n",
              "          if (!dataTable) return;\n",
              "\n",
              "          const docLinkHtml = 'Like what you see? Visit the ' +\n",
              "            '<a target=\"_blank\" href=https://colab.research.google.com/notebooks/data_table.ipynb>data table notebook</a>'\n",
              "            + ' to learn more about interactive tables.';\n",
              "          element.innerHTML = '';\n",
              "          dataTable['output_type'] = 'display_data';\n",
              "          await google.colab.output.renderOutput(dataTable, element);\n",
              "          const docLink = document.createElement('div');\n",
              "          docLink.innerHTML = docLinkHtml;\n",
              "          element.appendChild(docLink);\n",
              "        }\n",
              "      </script>\n",
              "    </div>\n",
              "  </div>\n",
              "  "
            ],
            "text/plain": [
              "        first_mile_distance  last_mile_distance  ...  order_accept  order_time_hrs\n",
              "0                    1.5666                2.65  ...      0.550000        8.359722\n",
              "1                    2.5207                2.76  ...      1.483333        8.554444\n",
              "2                    2.2074                4.80  ...      0.400000        8.663611\n",
              "3                    2.1894                6.38  ...      1.216667        8.798056\n",
              "4                    2.7870                4.01  ...      1.450000        9.108333\n",
              "...                     ...                 ...  ...           ...             ...\n",
              "449995               0.5789                0.19  ...      0.966667       16.054444\n",
              "449996               1.9863                1.19  ...      1.283333       16.054722\n",
              "449997               1.5944                1.61  ...      1.350000       16.055000\n",
              "449998               2.8939                4.68  ...      2.366667       16.055278\n",
              "449999               1.8925                0.09  ...      1.833333       16.056667\n",
              "\n",
              "[450000 rows x 11 columns]"
            ]
          },
          "metadata": {},
          "execution_count": 40
        }
      ]
    },
    {
      "cell_type": "code",
      "source": [
        "X.isna().sum()"
      ],
      "metadata": {
        "colab": {
          "base_uri": "https://localhost:8080/"
        },
        "id": "66U-VESRpWgO",
        "outputId": "6c5c16a3-17bc-45bd-eaf8-8c3ccd798456"
      },
      "execution_count": 24,
      "outputs": [
        {
          "output_type": "execute_result",
          "data": {
            "text/plain": [
              "rider_id                0\n",
              "first_mile_distance     0\n",
              "last_mile_distance      0\n",
              "alloted_orders          0\n",
              "delivered_orders        0\n",
              "undelivered_orders      0\n",
              "lifetime_order_count    0\n",
              "session_time            0\n",
              "dayOfWeek               0\n",
              "order_allot             0\n",
              "order_accept            0\n",
              "order_time_hrs          0\n",
              "dtype: int64"
            ]
          },
          "metadata": {},
          "execution_count": 24
        }
      ]
    },
    {
      "cell_type": "code",
      "source": [
        "from sklearn.ensemble import GradientBoostingClassifier\n",
        "from sklearn.model_selection import GridSearchCV\n",
        "from sklearn.metrics import roc_auc_score\n",
        "\n",
        "param_grid = {\n",
        "    \n",
        "    'n_estimators': [100,150,200],\n",
        "    'max_depth' : [3,5,7]\n",
        "}\n",
        "\n",
        "grid = GridSearchCV(GradientBoostingClassifier(), param_grid, scoring = 'roc_auc',refit = True, verbose = 10,n_jobs=-1)\n",
        "grid.fit(X,target)"
      ],
      "metadata": {
        "id": "0-F4p2HiYpiC"
      },
      "execution_count": null,
      "outputs": []
    },
    {
      "cell_type": "code",
      "source": [
        "sample_weights = np.zeros(len(train2))\n",
        "sample_weights[target == 0] = 1\n",
        "sample_weights[target == 1] = 80"
      ],
      "metadata": {
        "id": "4nN3LKcopsnZ"
      },
      "execution_count": 41,
      "outputs": []
    },
    {
      "cell_type": "code",
      "source": [
        "from sklearn.ensemble import GradientBoostingClassifier\n",
        "clf = GradientBoostingClassifier(n_estimators=100,max_depth=5)\n",
        "clf.fit(X,target,sample_weight = sample_weights)"
      ],
      "metadata": {
        "colab": {
          "base_uri": "https://localhost:8080/"
        },
        "id": "ZukoSOPgpuMd",
        "outputId": "aec78592-894c-44d6-d252-77281951cf8f"
      },
      "execution_count": 42,
      "outputs": [
        {
          "output_type": "execute_result",
          "data": {
            "text/plain": [
              "GradientBoostingClassifier(max_depth=5)"
            ]
          },
          "metadata": {},
          "execution_count": 42
        }
      ]
    },
    {
      "cell_type": "code",
      "source": [
        "test = preprocess(test)\n",
        "test = imp.transform(test)\n",
        "test = pd.DataFrame(test, columns = cols)"
      ],
      "metadata": {
        "id": "cVl67b1Rp2bn"
      },
      "execution_count": 43,
      "outputs": []
    },
    {
      "cell_type": "code",
      "source": [
        "y_pred = clf.predict_proba(test)[:,1]\n",
        "sample['cancelled'] = y_pred\n",
        "sample.to_csv(\"Submit.csv\",index = False)"
      ],
      "metadata": {
        "id": "PoAQGHnDqJoh"
      },
      "execution_count": 44,
      "outputs": []
    },
    {
      "cell_type": "code",
      "source": [
        "y_pred"
      ],
      "metadata": {
        "colab": {
          "base_uri": "https://localhost:8080/"
        },
        "id": "_Tp8YrGjujXL",
        "outputId": "c158da5f-77cd-44e8-9c1d-6651b94c2575"
      },
      "execution_count": 45,
      "outputs": [
        {
          "output_type": "execute_result",
          "data": {
            "text/plain": [
              "array([0.29226661, 0.36885221, 0.19110888, ..., 0.40480871, 0.31434098,\n",
              "       0.43119949])"
            ]
          },
          "metadata": {},
          "execution_count": 45
        }
      ]
    },
    {
      "cell_type": "code",
      "source": [
        ""
      ],
      "metadata": {
        "id": "JZQztxcZbMEr"
      },
      "execution_count": null,
      "outputs": []
    }
  ]
}